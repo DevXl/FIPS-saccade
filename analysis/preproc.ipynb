{
 "metadata": {
  "language_info": {
   "codemirror_mode": {
    "name": "ipython",
    "version": 3
   },
   "file_extension": ".py",
   "mimetype": "text/x-python",
   "name": "python",
   "nbconvert_exporter": "python",
   "pygments_lexer": "ipython3",
   "version": "3.6.13"
  },
  "orig_nbformat": 2,
  "kernelspec": {
   "name": "python3613jvsc74a57bd0493fef6f7b888fe9827c10636c22c3ab788d6f1cc84740835b868adf8558a4f1",
   "display_name": "Python 3.6.13 64-bit ('psyc': conda)"
  },
  "metadata": {
   "interpreter": {
    "hash": "493fef6f7b888fe9827c10636c22c3ab788d6f1cc84740835b868adf8558a4f1"
   }
  }
 },
 "nbformat": 4,
 "nbformat_minor": 2,
 "cells": [
  {
   "source": [
    "# Preprocessing Eye-Tracking Data"
   ],
   "cell_type": "markdown",
   "metadata": {}
  },
  {
   "cell_type": "code",
   "execution_count": 8,
   "metadata": {},
   "outputs": [],
   "source": [
    "import pandas as pd\n",
    "import numpy as np\n",
    "from pathlib import Path"
   ]
  },
  {
   "source": [
    "## Dataframe setup"
   ],
   "cell_type": "markdown",
   "metadata": {}
  },
  {
   "cell_type": "code",
   "execution_count": 15,
   "metadata": {},
   "outputs": [],
   "source": [
    "# paths and files\n",
    "data_dir = Path('.').resolve().parent / \"data\"\n",
    "files = data_dir.glob('**/*.csv')\n",
    "data_files = sorted(list(files))\n",
    "\n",
    "# load into one dataframe\n",
    "df = pd.concat(map(lambda f: pd.read_csv(f, index_col=None, header=0), data_files), ignore_index=True)"
   ]
  },
  {
   "cell_type": "code",
   "execution_count": 16,
   "metadata": {},
   "outputs": [
    {
     "output_type": "execute_result",
     "data": {
      "text/plain": [
       "  TrialNumber quadrant speed speed_px motion_cycle  ran order n_cue  \\\n",
       "0           1        2  0.67    15.28        250.0  1.0   0.0   9.0   \n",
       "1           2        1  0.33     7.64        500.0  1.0   1.0   6.0   \n",
       "2           3        2  0.33     7.64        500.0  1.0   2.0   6.0   \n",
       "3           4        1  0.67    15.28        250.0  1.0   3.0   5.0   \n",
       "4           1        1  0.42     9.55        400.0  1.0   0.0   5.0   \n",
       "\n",
       "  saccade_delay target_pos_x target_pos_y saccade_spos_x saccade_spos_y  \\\n",
       "0         572.0       1577.9       456.47         1285.5          715.0   \n",
       "1         434.0        982.1       525.22         1281.5          723.0   \n",
       "2         527.0      1532.07       525.22         1277.5          719.0   \n",
       "3         491.0      1027.93       456.47         1277.5          725.0   \n",
       "4         500.0      1050.85       456.47         1281.5          720.0   \n",
       "\n",
       "  saccade_epos_x saccade_epos_y saccade_dur  \n",
       "0         1455.5          534.0      443.75  \n",
       "1         1040.5          550.0      342.78  \n",
       "2         1637.5          538.0      181.44  \n",
       "3         1299.5          727.0      423.12  \n",
       "4          981.5          487.0      161.27  "
      ],
      "text/html": "<div>\n<style scoped>\n    .dataframe tbody tr th:only-of-type {\n        vertical-align: middle;\n    }\n\n    .dataframe tbody tr th {\n        vertical-align: top;\n    }\n\n    .dataframe thead th {\n        text-align: right;\n    }\n</style>\n<table border=\"1\" class=\"dataframe\">\n  <thead>\n    <tr style=\"text-align: right;\">\n      <th></th>\n      <th>TrialNumber</th>\n      <th>quadrant</th>\n      <th>speed</th>\n      <th>speed_px</th>\n      <th>motion_cycle</th>\n      <th>ran</th>\n      <th>order</th>\n      <th>n_cue</th>\n      <th>saccade_delay</th>\n      <th>target_pos_x</th>\n      <th>target_pos_y</th>\n      <th>saccade_spos_x</th>\n      <th>saccade_spos_y</th>\n      <th>saccade_epos_x</th>\n      <th>saccade_epos_y</th>\n      <th>saccade_dur</th>\n    </tr>\n  </thead>\n  <tbody>\n    <tr>\n      <th>0</th>\n      <td>1</td>\n      <td>2</td>\n      <td>0.67</td>\n      <td>15.28</td>\n      <td>250.0</td>\n      <td>1.0</td>\n      <td>0.0</td>\n      <td>9.0</td>\n      <td>572.0</td>\n      <td>1577.9</td>\n      <td>456.47</td>\n      <td>1285.5</td>\n      <td>715.0</td>\n      <td>1455.5</td>\n      <td>534.0</td>\n      <td>443.75</td>\n    </tr>\n    <tr>\n      <th>1</th>\n      <td>2</td>\n      <td>1</td>\n      <td>0.33</td>\n      <td>7.64</td>\n      <td>500.0</td>\n      <td>1.0</td>\n      <td>1.0</td>\n      <td>6.0</td>\n      <td>434.0</td>\n      <td>982.1</td>\n      <td>525.22</td>\n      <td>1281.5</td>\n      <td>723.0</td>\n      <td>1040.5</td>\n      <td>550.0</td>\n      <td>342.78</td>\n    </tr>\n    <tr>\n      <th>2</th>\n      <td>3</td>\n      <td>2</td>\n      <td>0.33</td>\n      <td>7.64</td>\n      <td>500.0</td>\n      <td>1.0</td>\n      <td>2.0</td>\n      <td>6.0</td>\n      <td>527.0</td>\n      <td>1532.07</td>\n      <td>525.22</td>\n      <td>1277.5</td>\n      <td>719.0</td>\n      <td>1637.5</td>\n      <td>538.0</td>\n      <td>181.44</td>\n    </tr>\n    <tr>\n      <th>3</th>\n      <td>4</td>\n      <td>1</td>\n      <td>0.67</td>\n      <td>15.28</td>\n      <td>250.0</td>\n      <td>1.0</td>\n      <td>3.0</td>\n      <td>5.0</td>\n      <td>491.0</td>\n      <td>1027.93</td>\n      <td>456.47</td>\n      <td>1277.5</td>\n      <td>725.0</td>\n      <td>1299.5</td>\n      <td>727.0</td>\n      <td>423.12</td>\n    </tr>\n    <tr>\n      <th>4</th>\n      <td>1</td>\n      <td>1</td>\n      <td>0.42</td>\n      <td>9.55</td>\n      <td>400.0</td>\n      <td>1.0</td>\n      <td>0.0</td>\n      <td>5.0</td>\n      <td>500.0</td>\n      <td>1050.85</td>\n      <td>456.47</td>\n      <td>1281.5</td>\n      <td>720.0</td>\n      <td>981.5</td>\n      <td>487.0</td>\n      <td>161.27</td>\n    </tr>\n  </tbody>\n</table>\n</div>"
     },
     "metadata": {},
     "execution_count": 16
    }
   ],
   "source": [
    "df.head()"
   ]
  },
  {
   "cell_type": "code",
   "execution_count": null,
   "metadata": {},
   "outputs": [],
   "source": []
  }
 ]
}